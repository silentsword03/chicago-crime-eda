{
 "cells": [
  {
   "cell_type": "code",
   "execution_count": 2,
   "id": "ce42eafe",
   "metadata": {},
   "outputs": [],
   "source": [
    "import pandas as pd\n",
    "import warnings\n",
    "\n",
    "warnings.simplefilter(\"ignore\")"
   ]
  },
  {
   "cell_type": "code",
   "execution_count": 3,
   "id": "eabf094e",
   "metadata": {},
   "outputs": [],
   "source": [
    "df = pd.read_csv(\"Crimes_-_2001_to_Present.csv\")"
   ]
  },
  {
   "cell_type": "code",
   "execution_count": 4,
   "id": "c7a3a232",
   "metadata": {},
   "outputs": [
    {
     "data": {
      "text/html": [
       "<div>\n",
       "<style scoped>\n",
       "    .dataframe tbody tr th:only-of-type {\n",
       "        vertical-align: middle;\n",
       "    }\n",
       "\n",
       "    .dataframe tbody tr th {\n",
       "        vertical-align: top;\n",
       "    }\n",
       "\n",
       "    .dataframe thead th {\n",
       "        text-align: right;\n",
       "    }\n",
       "</style>\n",
       "<table border=\"1\" class=\"dataframe\">\n",
       "  <thead>\n",
       "    <tr style=\"text-align: right;\">\n",
       "      <th></th>\n",
       "      <th>ID</th>\n",
       "      <th>Case Number</th>\n",
       "      <th>Date</th>\n",
       "      <th>Block</th>\n",
       "      <th>IUCR</th>\n",
       "      <th>Primary Type</th>\n",
       "      <th>Description</th>\n",
       "      <th>Location Description</th>\n",
       "      <th>Arrest</th>\n",
       "      <th>Domestic</th>\n",
       "      <th>...</th>\n",
       "      <th>Ward</th>\n",
       "      <th>Community Area</th>\n",
       "      <th>FBI Code</th>\n",
       "      <th>X Coordinate</th>\n",
       "      <th>Y Coordinate</th>\n",
       "      <th>Year</th>\n",
       "      <th>Updated On</th>\n",
       "      <th>Latitude</th>\n",
       "      <th>Longitude</th>\n",
       "      <th>Location</th>\n",
       "    </tr>\n",
       "  </thead>\n",
       "  <tbody>\n",
       "    <tr>\n",
       "      <th>0</th>\n",
       "      <td>11646166</td>\n",
       "      <td>JC213529</td>\n",
       "      <td>09/01/2018 12:01:00 AM</td>\n",
       "      <td>082XX S INGLESIDE AVE</td>\n",
       "      <td>0810</td>\n",
       "      <td>THEFT</td>\n",
       "      <td>OVER $500</td>\n",
       "      <td>RESIDENCE</td>\n",
       "      <td>False</td>\n",
       "      <td>True</td>\n",
       "      <td>...</td>\n",
       "      <td>8.0</td>\n",
       "      <td>44.0</td>\n",
       "      <td>06</td>\n",
       "      <td>NaN</td>\n",
       "      <td>NaN</td>\n",
       "      <td>2018</td>\n",
       "      <td>04/06/2019 04:04:43 PM</td>\n",
       "      <td>NaN</td>\n",
       "      <td>NaN</td>\n",
       "      <td>NaN</td>\n",
       "    </tr>\n",
       "    <tr>\n",
       "      <th>1</th>\n",
       "      <td>11645836</td>\n",
       "      <td>JC212333</td>\n",
       "      <td>05/01/2016 12:25:00 AM</td>\n",
       "      <td>055XX S ROCKWELL ST</td>\n",
       "      <td>1153</td>\n",
       "      <td>DECEPTIVE PRACTICE</td>\n",
       "      <td>FINANCIAL IDENTITY THEFT OVER $ 300</td>\n",
       "      <td>NaN</td>\n",
       "      <td>False</td>\n",
       "      <td>False</td>\n",
       "      <td>...</td>\n",
       "      <td>15.0</td>\n",
       "      <td>63.0</td>\n",
       "      <td>11</td>\n",
       "      <td>NaN</td>\n",
       "      <td>NaN</td>\n",
       "      <td>2016</td>\n",
       "      <td>04/06/2019 04:04:43 PM</td>\n",
       "      <td>NaN</td>\n",
       "      <td>NaN</td>\n",
       "      <td>NaN</td>\n",
       "    </tr>\n",
       "  </tbody>\n",
       "</table>\n",
       "<p>2 rows × 22 columns</p>\n",
       "</div>"
      ],
      "text/plain": [
       "         ID Case Number                    Date                  Block  IUCR  \\\n",
       "0  11646166    JC213529  09/01/2018 12:01:00 AM  082XX S INGLESIDE AVE  0810   \n",
       "1  11645836    JC212333  05/01/2016 12:25:00 AM    055XX S ROCKWELL ST  1153   \n",
       "\n",
       "         Primary Type                          Description  \\\n",
       "0               THEFT                            OVER $500   \n",
       "1  DECEPTIVE PRACTICE  FINANCIAL IDENTITY THEFT OVER $ 300   \n",
       "\n",
       "  Location Description  Arrest  Domestic  ...  Ward  Community Area  FBI Code  \\\n",
       "0            RESIDENCE   False      True  ...   8.0            44.0        06   \n",
       "1                  NaN   False     False  ...  15.0            63.0        11   \n",
       "\n",
       "   X Coordinate Y Coordinate  Year              Updated On  Latitude  \\\n",
       "0           NaN          NaN  2018  04/06/2019 04:04:43 PM       NaN   \n",
       "1           NaN          NaN  2016  04/06/2019 04:04:43 PM       NaN   \n",
       "\n",
       "  Longitude  Location  \n",
       "0       NaN       NaN  \n",
       "1       NaN       NaN  \n",
       "\n",
       "[2 rows x 22 columns]"
      ]
     },
     "execution_count": 4,
     "metadata": {},
     "output_type": "execute_result"
    }
   ],
   "source": [
    "df.head(2)"
   ]
  },
  {
   "cell_type": "code",
   "execution_count": 5,
   "id": "98174b3f",
   "metadata": {},
   "outputs": [
    {
     "data": {
      "text/plain": [
       "(7860037, 22)"
      ]
     },
     "execution_count": 5,
     "metadata": {},
     "output_type": "execute_result"
    }
   ],
   "source": [
    "df.shape"
   ]
  },
  {
   "cell_type": "code",
   "execution_count": 6,
   "id": "0ea4da80",
   "metadata": {},
   "outputs": [
    {
     "name": "stdout",
     "output_type": "stream",
     "text": [
      "Percentage of missing values in the columns:\n",
      " ID                      0.000000\n",
      "Case Number             0.000038\n",
      "Date                    0.000000\n",
      "Block                   0.000000\n",
      "IUCR                    0.000000\n",
      "Primary Type            0.000000\n",
      "Description             0.000000\n",
      "Location Description    0.137862\n",
      "Arrest                  0.000000\n",
      "Domestic                0.000000\n",
      "Beat                    0.000000\n",
      "District                0.000598\n",
      "Ward                    7.822470\n",
      "Community Area          7.804989\n",
      "FBI Code                0.000000\n",
      "X Coordinate            1.123672\n",
      "Y Coordinate            1.123672\n",
      "Year                    0.000000\n",
      "Updated On              0.000000\n",
      "Latitude                1.123672\n",
      "Longitude               1.123672\n",
      "Location                1.123672\n",
      "dtype: float64\n"
     ]
    }
   ],
   "source": [
    "print(\"Percentage of missing values in the columns:\\n\",(df.isna().sum()/df.shape[0])*100)"
   ]
  },
  {
   "cell_type": "code",
   "execution_count": 7,
   "id": "3a50994d",
   "metadata": {},
   "outputs": [
    {
     "data": {
      "text/plain": [
       "ID                           0\n",
       "Case Number                  3\n",
       "Date                         0\n",
       "Block                        0\n",
       "IUCR                         0\n",
       "Primary Type                 0\n",
       "Description                  0\n",
       "Location Description     10836\n",
       "Arrest                       0\n",
       "Domestic                     0\n",
       "Beat                         0\n",
       "District                    47\n",
       "Ward                    614849\n",
       "Community Area          613475\n",
       "FBI Code                     0\n",
       "X Coordinate             88321\n",
       "Y Coordinate             88321\n",
       "Year                         0\n",
       "Updated On                   0\n",
       "Latitude                 88321\n",
       "Longitude                88321\n",
       "Location                 88321\n",
       "dtype: int64"
      ]
     },
     "execution_count": 7,
     "metadata": {},
     "output_type": "execute_result"
    }
   ],
   "source": [
    "df.isna().sum()   #we can simply drop the missing values related to location data or we can try retrive using geocoding apis from google"
   ]
  },
  {
   "cell_type": "code",
   "execution_count": 8,
   "id": "7940ecd1",
   "metadata": {},
   "outputs": [],
   "source": [
    "columns_with_missing = ['Location Description', 'Ward', 'Community Area','Latitude', 'Longitude', 'Location','X Coordinate','Y Coordinate']\n",
    "df = df.dropna(subset=columns_with_missing)"
   ]
  },
  {
   "cell_type": "code",
   "execution_count": 9,
   "id": "bcfc5aa4",
   "metadata": {},
   "outputs": [
    {
     "name": "stdout",
     "output_type": "stream",
     "text": [
      "Percentage of missing values in the columns after dropping na's:\n",
      " ID                      0.000000\n",
      "Case Number             0.000028\n",
      "Date                    0.000000\n",
      "Block                   0.000000\n",
      "IUCR                    0.000000\n",
      "Primary Type            0.000000\n",
      "Description             0.000000\n",
      "Location Description    0.000000\n",
      "Arrest                  0.000000\n",
      "Domestic                0.000000\n",
      "Beat                    0.000000\n",
      "District                0.000657\n",
      "Ward                    0.000000\n",
      "Community Area          0.000000\n",
      "FBI Code                0.000000\n",
      "X Coordinate            0.000000\n",
      "Y Coordinate            0.000000\n",
      "Year                    0.000000\n",
      "Updated On              0.000000\n",
      "Latitude                0.000000\n",
      "Longitude               0.000000\n",
      "Location                0.000000\n",
      "dtype: float64\n"
     ]
    }
   ],
   "source": [
    "print(\"Percentage of missing values in the columns after dropping na's:\\n\",(df.isna().sum()/df.shape[0])*100)"
   ]
  },
  {
   "cell_type": "code",
   "execution_count": 10,
   "id": "731c0928",
   "metadata": {},
   "outputs": [
    {
     "data": {
      "text/plain": [
       "Index(['ID', 'Case Number', 'Date', 'Block', 'IUCR', 'Primary Type',\n",
       "       'Description', 'Location Description', 'Arrest', 'Domestic', 'Beat',\n",
       "       'District', 'Ward', 'Community Area', 'FBI Code', 'X Coordinate',\n",
       "       'Y Coordinate', 'Year', 'Updated On', 'Latitude', 'Longitude',\n",
       "       'Location'],\n",
       "      dtype='object')"
      ]
     },
     "execution_count": 10,
     "metadata": {},
     "output_type": "execute_result"
    }
   ],
   "source": [
    "df.columns"
   ]
  },
  {
   "cell_type": "code",
   "execution_count": 11,
   "id": "667438fb",
   "metadata": {},
   "outputs": [
    {
     "data": {
      "text/plain": [
       "(7158108, 22)"
      ]
     },
     "execution_count": 11,
     "metadata": {},
     "output_type": "execute_result"
    }
   ],
   "source": [
    "df.shape"
   ]
  },
  {
   "cell_type": "code",
   "execution_count": 12,
   "id": "07044a08",
   "metadata": {},
   "outputs": [],
   "source": [
    "primary_type_count = df.groupby('Primary Type').size().sort_values(ascending=False)[:10]"
   ]
  },
  {
   "cell_type": "code",
   "execution_count": 13,
   "id": "e04d685b",
   "metadata": {},
   "outputs": [
    {
     "data": {
      "image/png": "[encoded data removed]",
      "text/plain": [
       "<Figure size 720x360 with 1 Axes>"
      ]
     },
     "metadata": {
      "needs_background": "light"
     },
     "output_type": "display_data"
    }
   ],
   "source": [
    "import matplotlib.pyplot as plt\n",
    "primary_type_count.plot(kind='bar', figsize=(10, 5))\n",
    "plt.xlabel('Primary Type')\n",
    "plt.ylabel('Count')\n",
    "plt.title('Distribution of Crime Types')\n",
    "plt.show()"
   ]
  },
  {
   "cell_type": "code",
   "execution_count": 14,
   "id": "5aa94128",
   "metadata": {},
   "outputs": [
    {
     "data": {
      "text/plain": [
       "6          09/03/2015 06:00:00 PM\n",
       "11         09/05/2015 10:42:00 PM\n",
       "15         09/06/2015 01:10:00 AM\n",
       "17         09/06/2015 02:00:00 AM\n",
       "23         09/06/2015 02:35:00 AM\n",
       "                    ...          \n",
       "7860032    06/21/2023 08:00:00 PM\n",
       "7860033    06/06/2023 03:42:00 PM\n",
       "7860034    06/28/2023 06:00:00 PM\n",
       "7860035    05/13/2023 12:00:00 PM\n",
       "7860036    06/20/2023 04:00:00 AM\n",
       "Name: Date, Length: 7158108, dtype: object"
      ]
     },
     "execution_count": 14,
     "metadata": {},
     "output_type": "execute_result"
    }
   ],
   "source": [
    "df.Date"
   ]
  },
  {
   "cell_type": "code",
   "execution_count": 15,
   "id": "803440e6",
   "metadata": {},
   "outputs": [
    {
     "data": {
      "text/plain": [
       "ID                        int64\n",
       "Case Number              object\n",
       "Date                     object\n",
       "Block                    object\n",
       "IUCR                     object\n",
       "Primary Type             object\n",
       "Description              object\n",
       "Location Description     object\n",
       "Arrest                     bool\n",
       "Domestic                   bool\n",
       "Beat                      int64\n",
       "District                float64\n",
       "Ward                    float64\n",
       "Community Area          float64\n",
       "FBI Code                 object\n",
       "X Coordinate            float64\n",
       "Y Coordinate            float64\n",
       "Year                      int64\n",
       "Updated On               object\n",
       "Latitude                float64\n",
       "Longitude               float64\n",
       "Location                 object\n",
       "dtype: object"
      ]
     },
     "execution_count": 15,
     "metadata": {},
     "output_type": "execute_result"
    }
   ],
   "source": [
    "df.dtypes"
   ]
  },
  {
   "cell_type": "code",
   "execution_count": 16,
   "id": "b6da8360",
   "metadata": {},
   "outputs": [],
   "source": [
    "df['Date'] = pd.to_datetime(df['Date'])\n"
   ]
  },
  {
   "cell_type": "code",
   "execution_count": 17,
   "id": "4ddea888",
   "metadata": {},
   "outputs": [],
   "source": [
    "df['Year'] = df['Date'].dt.year\n"
   ]
  },
  {
   "cell_type": "code",
   "execution_count": 18,
   "id": "eaeb0716",
   "metadata": {},
   "outputs": [
    {
     "data": {
      "text/plain": [
       "12"
      ]
     },
     "execution_count": 18,
     "metadata": {},
     "output_type": "execute_result"
    }
   ],
   "source": [
    "df['Month'] = df['Date'].dt.month\n",
    "df['Month'].nunique()"
   ]
  },
  {
   "cell_type": "code",
   "execution_count": 19,
   "id": "93a50546",
   "metadata": {},
   "outputs": [
    {
     "data": {
      "text/html": [
       "<div>\n",
       "<style scoped>\n",
       "    .dataframe tbody tr th:only-of-type {\n",
       "        vertical-align: middle;\n",
       "    }\n",
       "\n",
       "    .dataframe tbody tr th {\n",
       "        vertical-align: top;\n",
       "    }\n",
       "\n",
       "    .dataframe thead th {\n",
       "        text-align: right;\n",
       "    }\n",
       "</style>\n",
       "<table border=\"1\" class=\"dataframe\">\n",
       "  <thead>\n",
       "    <tr style=\"text-align: right;\">\n",
       "      <th></th>\n",
       "      <th>ID</th>\n",
       "      <th>Case Number</th>\n",
       "      <th>Date</th>\n",
       "      <th>Block</th>\n",
       "      <th>IUCR</th>\n",
       "      <th>Primary Type</th>\n",
       "      <th>Description</th>\n",
       "      <th>Location Description</th>\n",
       "      <th>Arrest</th>\n",
       "      <th>Domestic</th>\n",
       "      <th>...</th>\n",
       "      <th>Community Area</th>\n",
       "      <th>FBI Code</th>\n",
       "      <th>X Coordinate</th>\n",
       "      <th>Y Coordinate</th>\n",
       "      <th>Year</th>\n",
       "      <th>Updated On</th>\n",
       "      <th>Latitude</th>\n",
       "      <th>Longitude</th>\n",
       "      <th>Location</th>\n",
       "      <th>Month</th>\n",
       "    </tr>\n",
       "  </thead>\n",
       "  <tbody>\n",
       "    <tr>\n",
       "      <th>6</th>\n",
       "      <td>10224881</td>\n",
       "      <td>HY411873</td>\n",
       "      <td>2015-09-03 18:00:00</td>\n",
       "      <td>044XX S UNIVERSITY AVE</td>\n",
       "      <td>1310</td>\n",
       "      <td>CRIMINAL DAMAGE</td>\n",
       "      <td>TO PROPERTY</td>\n",
       "      <td>RESIDENCE</td>\n",
       "      <td>False</td>\n",
       "      <td>False</td>\n",
       "      <td>...</td>\n",
       "      <td>39.0</td>\n",
       "      <td>14</td>\n",
       "      <td>1184667.0</td>\n",
       "      <td>1875669.0</td>\n",
       "      <td>2015</td>\n",
       "      <td>02/10/2018 03:50:01 PM</td>\n",
       "      <td>41.813999</td>\n",
       "      <td>-87.598138</td>\n",
       "      <td>(41.81399924, -87.598137918)</td>\n",
       "      <td>9</td>\n",
       "    </tr>\n",
       "    <tr>\n",
       "      <th>11</th>\n",
       "      <td>10225155</td>\n",
       "      <td>HY412177</td>\n",
       "      <td>2015-09-05 22:42:00</td>\n",
       "      <td>007XX W IRVING PARK RD</td>\n",
       "      <td>0470</td>\n",
       "      <td>PUBLIC PEACE VIOLATION</td>\n",
       "      <td>RECKLESS CONDUCT</td>\n",
       "      <td>STREET</td>\n",
       "      <td>True</td>\n",
       "      <td>False</td>\n",
       "      <td>...</td>\n",
       "      <td>3.0</td>\n",
       "      <td>24</td>\n",
       "      <td>1170563.0</td>\n",
       "      <td>1926785.0</td>\n",
       "      <td>2015</td>\n",
       "      <td>02/10/2018 03:50:01 PM</td>\n",
       "      <td>41.954584</td>\n",
       "      <td>-87.648376</td>\n",
       "      <td>(41.954584472, -87.648375776)</td>\n",
       "      <td>9</td>\n",
       "    </tr>\n",
       "  </tbody>\n",
       "</table>\n",
       "<p>2 rows × 23 columns</p>\n",
       "</div>"
      ],
      "text/plain": [
       "          ID Case Number                Date                   Block  IUCR  \\\n",
       "6   10224881    HY411873 2015-09-03 18:00:00  044XX S UNIVERSITY AVE  1310   \n",
       "11  10225155    HY412177 2015-09-05 22:42:00  007XX W IRVING PARK RD  0470   \n",
       "\n",
       "              Primary Type       Description Location Description  Arrest  \\\n",
       "6          CRIMINAL DAMAGE       TO PROPERTY            RESIDENCE   False   \n",
       "11  PUBLIC PEACE VIOLATION  RECKLESS CONDUCT               STREET    True   \n",
       "\n",
       "    Domestic  ...  Community Area  FBI Code  X Coordinate  Y Coordinate  Year  \\\n",
       "6      False  ...            39.0        14     1184667.0     1875669.0  2015   \n",
       "11     False  ...             3.0        24     1170563.0     1926785.0  2015   \n",
       "\n",
       "                Updated On   Latitude  Longitude  \\\n",
       "6   02/10/2018 03:50:01 PM  41.813999 -87.598138   \n",
       "11  02/10/2018 03:50:01 PM  41.954584 -87.648376   \n",
       "\n",
       "                         Location  Month  \n",
       "6    (41.81399924, -87.598137918)      9  \n",
       "11  (41.954584472, -87.648375776)      9  \n",
       "\n",
       "[2 rows x 23 columns]"
      ]
     },
     "execution_count": 19,
     "metadata": {},
     "output_type": "execute_result"
    }
   ],
   "source": [
    "df.head(2)"
   ]
  },
  {
   "cell_type": "code",
   "execution_count": 20,
   "id": "d1acdcba",
   "metadata": {},
   "outputs": [
    {
     "data": {
      "text/html": [
       "<div>\n",
       "<style scoped>\n",
       "    .dataframe tbody tr th:only-of-type {\n",
       "        vertical-align: middle;\n",
       "    }\n",
       "\n",
       "    .dataframe tbody tr th {\n",
       "        vertical-align: top;\n",
       "    }\n",
       "\n",
       "    .dataframe thead th {\n",
       "        text-align: right;\n",
       "    }\n",
       "</style>\n",
       "<table border=\"1\" class=\"dataframe\">\n",
       "  <thead>\n",
       "    <tr style=\"text-align: right;\">\n",
       "      <th></th>\n",
       "      <th>ID</th>\n",
       "      <th>Case Number</th>\n",
       "      <th>Date</th>\n",
       "      <th>Block</th>\n",
       "      <th>IUCR</th>\n",
       "      <th>Primary Type</th>\n",
       "      <th>Description</th>\n",
       "      <th>Location Description</th>\n",
       "      <th>Arrest</th>\n",
       "      <th>Domestic</th>\n",
       "      <th>...</th>\n",
       "      <th>Community Area</th>\n",
       "      <th>FBI Code</th>\n",
       "      <th>X Coordinate</th>\n",
       "      <th>Y Coordinate</th>\n",
       "      <th>Year</th>\n",
       "      <th>Updated On</th>\n",
       "      <th>Latitude</th>\n",
       "      <th>Longitude</th>\n",
       "      <th>Location</th>\n",
       "      <th>Month</th>\n",
       "    </tr>\n",
       "  </thead>\n",
       "  <tbody>\n",
       "    <tr>\n",
       "      <th>7860032</th>\n",
       "      <td>13128007</td>\n",
       "      <td>JG325985</td>\n",
       "      <td>2023-06-21 20:00:00</td>\n",
       "      <td>031XX N CALIFORNIA AVE</td>\n",
       "      <td>1320</td>\n",
       "      <td>CRIMINAL DAMAGE</td>\n",
       "      <td>TO VEHICLE</td>\n",
       "      <td>STREET</td>\n",
       "      <td>False</td>\n",
       "      <td>False</td>\n",
       "      <td>...</td>\n",
       "      <td>21.0</td>\n",
       "      <td>14</td>\n",
       "      <td>1157169.0</td>\n",
       "      <td>1920611.0</td>\n",
       "      <td>2023</td>\n",
       "      <td>08/05/2023 04:45:54 PM</td>\n",
       "      <td>41.937926</td>\n",
       "      <td>-87.697782</td>\n",
       "      <td>(41.937925817, -87.697782474)</td>\n",
       "      <td>6</td>\n",
       "    </tr>\n",
       "    <tr>\n",
       "      <th>7860033</th>\n",
       "      <td>13128066</td>\n",
       "      <td>JG325838</td>\n",
       "      <td>2023-06-06 15:42:00</td>\n",
       "      <td>018XX N LOCKWOOD AVE</td>\n",
       "      <td>1752</td>\n",
       "      <td>OFFENSE INVOLVING CHILDREN</td>\n",
       "      <td>AGGRAVATED CRIMINAL SEXUAL ABUSE BY FAMILY MEMBER</td>\n",
       "      <td>APARTMENT</td>\n",
       "      <td>False</td>\n",
       "      <td>False</td>\n",
       "      <td>...</td>\n",
       "      <td>25.0</td>\n",
       "      <td>17</td>\n",
       "      <td>1140792.0</td>\n",
       "      <td>1911954.0</td>\n",
       "      <td>2023</td>\n",
       "      <td>08/05/2023 04:45:54 PM</td>\n",
       "      <td>41.914487</td>\n",
       "      <td>-87.758185</td>\n",
       "      <td>(41.914487492, -87.758185241)</td>\n",
       "      <td>6</td>\n",
       "    </tr>\n",
       "    <tr>\n",
       "      <th>7860034</th>\n",
       "      <td>13129823</td>\n",
       "      <td>JG328250</td>\n",
       "      <td>2023-06-28 18:00:00</td>\n",
       "      <td>059XX S KEELER AVE</td>\n",
       "      <td>0810</td>\n",
       "      <td>THEFT</td>\n",
       "      <td>OVER $500</td>\n",
       "      <td>STREET</td>\n",
       "      <td>False</td>\n",
       "      <td>False</td>\n",
       "      <td>...</td>\n",
       "      <td>65.0</td>\n",
       "      <td>06</td>\n",
       "      <td>1149387.0</td>\n",
       "      <td>1864869.0</td>\n",
       "      <td>2023</td>\n",
       "      <td>08/05/2023 04:45:54 PM</td>\n",
       "      <td>41.785118</td>\n",
       "      <td>-87.727828</td>\n",
       "      <td>(41.785117789, -87.727827896)</td>\n",
       "      <td>6</td>\n",
       "    </tr>\n",
       "    <tr>\n",
       "      <th>7860035</th>\n",
       "      <td>13128324</td>\n",
       "      <td>JG326502</td>\n",
       "      <td>2023-05-13 12:00:00</td>\n",
       "      <td>020XX W CERMAK RD</td>\n",
       "      <td>1120</td>\n",
       "      <td>DECEPTIVE PRACTICE</td>\n",
       "      <td>FORGERY</td>\n",
       "      <td>CURRENCY EXCHANGE</td>\n",
       "      <td>False</td>\n",
       "      <td>False</td>\n",
       "      <td>...</td>\n",
       "      <td>31.0</td>\n",
       "      <td>10</td>\n",
       "      <td>1163211.0</td>\n",
       "      <td>1889404.0</td>\n",
       "      <td>2023</td>\n",
       "      <td>08/05/2023 04:45:54 PM</td>\n",
       "      <td>41.852166</td>\n",
       "      <td>-87.676455</td>\n",
       "      <td>(41.85216632, -87.676455032)</td>\n",
       "      <td>5</td>\n",
       "    </tr>\n",
       "    <tr>\n",
       "      <th>7860036</th>\n",
       "      <td>13129172</td>\n",
       "      <td>JG327619</td>\n",
       "      <td>2023-06-20 04:00:00</td>\n",
       "      <td>028XX N MAPLEWOOD AVE</td>\n",
       "      <td>0460</td>\n",
       "      <td>BATTERY</td>\n",
       "      <td>SIMPLE</td>\n",
       "      <td>RESIDENCE</td>\n",
       "      <td>False</td>\n",
       "      <td>True</td>\n",
       "      <td>...</td>\n",
       "      <td>21.0</td>\n",
       "      <td>08B</td>\n",
       "      <td>1158868.0</td>\n",
       "      <td>1918755.0</td>\n",
       "      <td>2023</td>\n",
       "      <td>08/05/2023 04:45:54 PM</td>\n",
       "      <td>41.932798</td>\n",
       "      <td>-87.691589</td>\n",
       "      <td>(41.932798095, -87.691589364)</td>\n",
       "      <td>6</td>\n",
       "    </tr>\n",
       "  </tbody>\n",
       "</table>\n",
       "<p>5 rows × 23 columns</p>\n",
       "</div>"
      ],
      "text/plain": [
       "               ID Case Number                Date                   Block  \\\n",
       "7860032  13128007    JG325985 2023-06-21 20:00:00  031XX N CALIFORNIA AVE   \n",
       "7860033  13128066    JG325838 2023-06-06 15:42:00    018XX N LOCKWOOD AVE   \n",
       "7860034  13129823    JG328250 2023-06-28 18:00:00      059XX S KEELER AVE   \n",
       "7860035  13128324    JG326502 2023-05-13 12:00:00       020XX W CERMAK RD   \n",
       "7860036  13129172    JG327619 2023-06-20 04:00:00   028XX N MAPLEWOOD AVE   \n",
       "\n",
       "         IUCR                Primary Type  \\\n",
       "7860032  1320             CRIMINAL DAMAGE   \n",
       "7860033  1752  OFFENSE INVOLVING CHILDREN   \n",
       "7860034  0810                       THEFT   \n",
       "7860035  1120          DECEPTIVE PRACTICE   \n",
       "7860036  0460                     BATTERY   \n",
       "\n",
       "                                               Description  \\\n",
       "7860032                                         TO VEHICLE   \n",
       "7860033  AGGRAVATED CRIMINAL SEXUAL ABUSE BY FAMILY MEMBER   \n",
       "7860034                                          OVER $500   \n",
       "7860035                                            FORGERY   \n",
       "7860036                                             SIMPLE   \n",
       "\n",
       "        Location Description  Arrest  Domestic  ...  Community Area  FBI Code  \\\n",
       "7860032               STREET   False     False  ...            21.0        14   \n",
       "7860033            APARTMENT   False     False  ...            25.0        17   \n",
       "7860034               STREET   False     False  ...            65.0        06   \n",
       "7860035    CURRENCY EXCHANGE   False     False  ...            31.0        10   \n",
       "7860036            RESIDENCE   False      True  ...            21.0       08B   \n",
       "\n",
       "         X Coordinate  Y Coordinate  Year              Updated On   Latitude  \\\n",
       "7860032     1157169.0     1920611.0  2023  08/05/2023 04:45:54 PM  41.937926   \n",
       "7860033     1140792.0     1911954.0  2023  08/05/2023 04:45:54 PM  41.914487   \n",
       "7860034     1149387.0     1864869.0  2023  08/05/2023 04:45:54 PM  41.785118   \n",
       "7860035     1163211.0     1889404.0  2023  08/05/2023 04:45:54 PM  41.852166   \n",
       "7860036     1158868.0     1918755.0  2023  08/05/2023 04:45:54 PM  41.932798   \n",
       "\n",
       "         Longitude                       Location  Month  \n",
       "7860032 -87.697782  (41.937925817, -87.697782474)      6  \n",
       "7860033 -87.758185  (41.914487492, -87.758185241)      6  \n",
       "7860034 -87.727828  (41.785117789, -87.727827896)      6  \n",
       "7860035 -87.676455   (41.85216632, -87.676455032)      5  \n",
       "7860036 -87.691589  (41.932798095, -87.691589364)      6  \n",
       "\n",
       "[5 rows x 23 columns]"
      ]
     },
     "execution_count": 20,
     "metadata": {},
     "output_type": "execute_result"
    }
   ],
   "source": [
    "df.tail()"
   ]
  },
  {
   "cell_type": "code",
   "execution_count": 21,
   "id": "1606ffa5",
   "metadata": {},
   "outputs": [
    {
     "data": {
      "text/plain": [
       "array([2015, 2013, 2019, 2014, 2010, 2020, 2017, 2011, 2016, 2023, 2021,\n",
       "       2018, 2022, 2012, 2009, 2001, 2002, 2003, 2004, 2005, 2006, 2007,\n",
       "       2008], dtype=int64)"
      ]
     },
     "execution_count": 21,
     "metadata": {},
     "output_type": "execute_result"
    }
   ],
   "source": [
    "df['Year'].unique()"
   ]
  },
  {
   "cell_type": "code",
   "execution_count": 22,
   "id": "db3131da",
   "metadata": {},
   "outputs": [],
   "source": [
    "df = df.reset_index(drop=True)"
   ]
  },
  {
   "cell_type": "code",
   "execution_count": 23,
   "id": "a2f6980c",
   "metadata": {},
   "outputs": [
    {
     "data": {
      "text/html": [
       "<div>\n",
       "<style scoped>\n",
       "    .dataframe tbody tr th:only-of-type {\n",
       "        vertical-align: middle;\n",
       "    }\n",
       "\n",
       "    .dataframe tbody tr th {\n",
       "        vertical-align: top;\n",
       "    }\n",
       "\n",
       "    .dataframe thead th {\n",
       "        text-align: right;\n",
       "    }\n",
       "</style>\n",
       "<table border=\"1\" class=\"dataframe\">\n",
       "  <thead>\n",
       "    <tr style=\"text-align: right;\">\n",
       "      <th></th>\n",
       "      <th>ID</th>\n",
       "      <th>Case Number</th>\n",
       "      <th>Date</th>\n",
       "      <th>Block</th>\n",
       "      <th>IUCR</th>\n",
       "      <th>Primary Type</th>\n",
       "      <th>Description</th>\n",
       "      <th>Location Description</th>\n",
       "      <th>Arrest</th>\n",
       "      <th>Domestic</th>\n",
       "      <th>...</th>\n",
       "      <th>Community Area</th>\n",
       "      <th>FBI Code</th>\n",
       "      <th>X Coordinate</th>\n",
       "      <th>Y Coordinate</th>\n",
       "      <th>Year</th>\n",
       "      <th>Updated On</th>\n",
       "      <th>Latitude</th>\n",
       "      <th>Longitude</th>\n",
       "      <th>Location</th>\n",
       "      <th>Month</th>\n",
       "    </tr>\n",
       "  </thead>\n",
       "  <tbody>\n",
       "    <tr>\n",
       "      <th>0</th>\n",
       "      <td>10224881</td>\n",
       "      <td>HY411873</td>\n",
       "      <td>2015-09-03 18:00:00</td>\n",
       "      <td>044XX S UNIVERSITY AVE</td>\n",
       "      <td>1310</td>\n",
       "      <td>CRIMINAL DAMAGE</td>\n",
       "      <td>TO PROPERTY</td>\n",
       "      <td>RESIDENCE</td>\n",
       "      <td>False</td>\n",
       "      <td>False</td>\n",
       "      <td>...</td>\n",
       "      <td>39.0</td>\n",
       "      <td>14</td>\n",
       "      <td>1184667.0</td>\n",
       "      <td>1875669.0</td>\n",
       "      <td>2015</td>\n",
       "      <td>02/10/2018 03:50:01 PM</td>\n",
       "      <td>41.813999</td>\n",
       "      <td>-87.598138</td>\n",
       "      <td>(41.81399924, -87.598137918)</td>\n",
       "      <td>9</td>\n",
       "    </tr>\n",
       "    <tr>\n",
       "      <th>1</th>\n",
       "      <td>10225155</td>\n",
       "      <td>HY412177</td>\n",
       "      <td>2015-09-05 22:42:00</td>\n",
       "      <td>007XX W IRVING PARK RD</td>\n",
       "      <td>0470</td>\n",
       "      <td>PUBLIC PEACE VIOLATION</td>\n",
       "      <td>RECKLESS CONDUCT</td>\n",
       "      <td>STREET</td>\n",
       "      <td>True</td>\n",
       "      <td>False</td>\n",
       "      <td>...</td>\n",
       "      <td>3.0</td>\n",
       "      <td>24</td>\n",
       "      <td>1170563.0</td>\n",
       "      <td>1926785.0</td>\n",
       "      <td>2015</td>\n",
       "      <td>02/10/2018 03:50:01 PM</td>\n",
       "      <td>41.954584</td>\n",
       "      <td>-87.648376</td>\n",
       "      <td>(41.954584472, -87.648375776)</td>\n",
       "      <td>9</td>\n",
       "    </tr>\n",
       "    <tr>\n",
       "      <th>2</th>\n",
       "      <td>10225206</td>\n",
       "      <td>HY412253</td>\n",
       "      <td>2015-09-06 01:10:00</td>\n",
       "      <td>047XX S STATE ST</td>\n",
       "      <td>041A</td>\n",
       "      <td>BATTERY</td>\n",
       "      <td>AGGRAVATED: HANDGUN</td>\n",
       "      <td>VACANT LOT/LAND</td>\n",
       "      <td>False</td>\n",
       "      <td>False</td>\n",
       "      <td>...</td>\n",
       "      <td>38.0</td>\n",
       "      <td>04B</td>\n",
       "      <td>1177070.0</td>\n",
       "      <td>1873609.0</td>\n",
       "      <td>2015</td>\n",
       "      <td>02/10/2018 03:50:01 PM</td>\n",
       "      <td>41.808521</td>\n",
       "      <td>-87.626066</td>\n",
       "      <td>(41.80852139, -87.62606631)</td>\n",
       "      <td>9</td>\n",
       "    </tr>\n",
       "  </tbody>\n",
       "</table>\n",
       "<p>3 rows × 23 columns</p>\n",
       "</div>"
      ],
      "text/plain": [
       "         ID Case Number                Date                   Block  IUCR  \\\n",
       "0  10224881    HY411873 2015-09-03 18:00:00  044XX S UNIVERSITY AVE  1310   \n",
       "1  10225155    HY412177 2015-09-05 22:42:00  007XX W IRVING PARK RD  0470   \n",
       "2  10225206    HY412253 2015-09-06 01:10:00        047XX S STATE ST  041A   \n",
       "\n",
       "             Primary Type          Description Location Description  Arrest  \\\n",
       "0         CRIMINAL DAMAGE          TO PROPERTY            RESIDENCE   False   \n",
       "1  PUBLIC PEACE VIOLATION     RECKLESS CONDUCT               STREET    True   \n",
       "2                 BATTERY  AGGRAVATED: HANDGUN      VACANT LOT/LAND   False   \n",
       "\n",
       "   Domestic  ...  Community Area  FBI Code  X Coordinate  Y Coordinate  Year  \\\n",
       "0     False  ...            39.0        14     1184667.0     1875669.0  2015   \n",
       "1     False  ...             3.0        24     1170563.0     1926785.0  2015   \n",
       "2     False  ...            38.0       04B     1177070.0     1873609.0  2015   \n",
       "\n",
       "               Updated On   Latitude  Longitude  \\\n",
       "0  02/10/2018 03:50:01 PM  41.813999 -87.598138   \n",
       "1  02/10/2018 03:50:01 PM  41.954584 -87.648376   \n",
       "2  02/10/2018 03:50:01 PM  41.808521 -87.626066   \n",
       "\n",
       "                        Location  Month  \n",
       "0   (41.81399924, -87.598137918)      9  \n",
       "1  (41.954584472, -87.648375776)      9  \n",
       "2    (41.80852139, -87.62606631)      9  \n",
       "\n",
       "[3 rows x 23 columns]"
      ]
     },
     "execution_count": 23,
     "metadata": {},
     "output_type": "execute_result"
    }
   ],
   "source": [
    "df.head(3)"
   ]
  },
  {
   "cell_type": "code",
   "execution_count": 24,
   "id": "2e77d11b",
   "metadata": {},
   "outputs": [
    {
     "data": {
      "text/plain": [
       "Index(['ID', 'Case Number', 'Date', 'Block', 'IUCR', 'Primary Type',\n",
       "       'Description', 'Location Description', 'Arrest', 'Domestic', 'Beat',\n",
       "       'District', 'Ward', 'Community Area', 'FBI Code', 'X Coordinate',\n",
       "       'Y Coordinate', 'Year', 'Updated On', 'Latitude', 'Longitude',\n",
       "       'Location', 'Month'],\n",
       "      dtype='object')"
      ]
     },
     "execution_count": 24,
     "metadata": {},
     "output_type": "execute_result"
    }
   ],
   "source": [
    "df.columns"
   ]
  },
  {
   "cell_type": "code",
   "execution_count": 25,
   "id": "cb30c098",
   "metadata": {},
   "outputs": [],
   "source": [
    "type_counts = df.groupby(['Year', 'Primary Type']).size().reset_index(name='Count')\n"
   ]
  },
  {
   "cell_type": "code",
   "execution_count": 26,
   "id": "0ce6d026",
   "metadata": {},
   "outputs": [
    {
     "data": {
      "text/html": [
       "<div>\n",
       "<style scoped>\n",
       "    .dataframe tbody tr th:only-of-type {\n",
       "        vertical-align: middle;\n",
       "    }\n",
       "\n",
       "    .dataframe tbody tr th {\n",
       "        vertical-align: top;\n",
       "    }\n",
       "\n",
       "    .dataframe thead th {\n",
       "        text-align: right;\n",
       "    }\n",
       "</style>\n",
       "<table border=\"1\" class=\"dataframe\">\n",
       "  <thead>\n",
       "    <tr style=\"text-align: right;\">\n",
       "      <th></th>\n",
       "      <th>Year</th>\n",
       "      <th>Primary Type</th>\n",
       "      <th>Count</th>\n",
       "    </tr>\n",
       "  </thead>\n",
       "  <tbody>\n",
       "    <tr>\n",
       "      <th>0</th>\n",
       "      <td>2001</td>\n",
       "      <td>ARSON</td>\n",
       "      <td>4</td>\n",
       "    </tr>\n",
       "    <tr>\n",
       "      <th>1</th>\n",
       "      <td>2001</td>\n",
       "      <td>ASSAULT</td>\n",
       "      <td>46</td>\n",
       "    </tr>\n",
       "    <tr>\n",
       "      <th>2</th>\n",
       "      <td>2001</td>\n",
       "      <td>BATTERY</td>\n",
       "      <td>151</td>\n",
       "    </tr>\n",
       "    <tr>\n",
       "      <th>3</th>\n",
       "      <td>2001</td>\n",
       "      <td>BURGLARY</td>\n",
       "      <td>50</td>\n",
       "    </tr>\n",
       "    <tr>\n",
       "      <th>4</th>\n",
       "      <td>2001</td>\n",
       "      <td>CRIM SEXUAL ASSAULT</td>\n",
       "      <td>128</td>\n",
       "    </tr>\n",
       "    <tr>\n",
       "      <th>...</th>\n",
       "      <td>...</td>\n",
       "      <td>...</td>\n",
       "      <td>...</td>\n",
       "    </tr>\n",
       "    <tr>\n",
       "      <th>705</th>\n",
       "      <td>2023</td>\n",
       "      <td>ROBBERY</td>\n",
       "      <td>5472</td>\n",
       "    </tr>\n",
       "    <tr>\n",
       "      <th>706</th>\n",
       "      <td>2023</td>\n",
       "      <td>SEX OFFENSE</td>\n",
       "      <td>748</td>\n",
       "    </tr>\n",
       "    <tr>\n",
       "      <th>707</th>\n",
       "      <td>2023</td>\n",
       "      <td>STALKING</td>\n",
       "      <td>276</td>\n",
       "    </tr>\n",
       "    <tr>\n",
       "      <th>708</th>\n",
       "      <td>2023</td>\n",
       "      <td>THEFT</td>\n",
       "      <td>31016</td>\n",
       "    </tr>\n",
       "    <tr>\n",
       "      <th>709</th>\n",
       "      <td>2023</td>\n",
       "      <td>WEAPONS VIOLATION</td>\n",
       "      <td>5179</td>\n",
       "    </tr>\n",
       "  </tbody>\n",
       "</table>\n",
       "<p>710 rows × 3 columns</p>\n",
       "</div>"
      ],
      "text/plain": [
       "     Year         Primary Type  Count\n",
       "0    2001                ARSON      4\n",
       "1    2001              ASSAULT     46\n",
       "2    2001              BATTERY    151\n",
       "3    2001             BURGLARY     50\n",
       "4    2001  CRIM SEXUAL ASSAULT    128\n",
       "..    ...                  ...    ...\n",
       "705  2023              ROBBERY   5472\n",
       "706  2023          SEX OFFENSE    748\n",
       "707  2023             STALKING    276\n",
       "708  2023                THEFT  31016\n",
       "709  2023    WEAPONS VIOLATION   5179\n",
       "\n",
       "[710 rows x 3 columns]"
      ]
     },
     "execution_count": 26,
     "metadata": {},
     "output_type": "execute_result"
    }
   ],
   "source": [
    "type_counts"
   ]
  },
  {
   "cell_type": "code",
   "execution_count": 27,
   "id": "c6ae3e73",
   "metadata": {},
   "outputs": [],
   "source": [
    "top_types = type_counts.groupby('Primary Type')['Count'].sum().sort_values(ascending=False).head(5).index\n"
   ]
  },
  {
   "cell_type": "code",
   "execution_count": 28,
   "id": "1f537f1e",
   "metadata": {},
   "outputs": [],
   "source": [
    "filtered_type_counts = type_counts[type_counts['Primary Type'].isin(top_types)]\n"
   ]
  },
  {
   "cell_type": "code",
   "execution_count": 29,
   "id": "f92390bf",
   "metadata": {},
   "outputs": [],
   "source": [
    "pivot_table = filtered_type_counts.pivot(index='Year', columns='Primary Type', values='Count')\n"
   ]
  },
  {
   "cell_type": "code",
   "execution_count": 30,
   "id": "ad2633e9",
   "metadata": {},
   "outputs": [
    {
     "data": {
      "image/png": "[encoded data removed]",
      "text/plain": [
       "<Figure size 720x432 with 1 Axes>"
      ]
     },
     "metadata": {
      "needs_background": "light"
     },
     "output_type": "display_data"
    }
   ],
   "source": [
    "# Plot the data\n",
    "ax = pivot_table.plot(kind='line', marker='o', figsize=(10, 6))\n",
    "ax.set_title('Progression of Top 5 Primary Types by Year')\n",
    "ax.set_xlabel('Year')\n",
    "ax.set_ylabel('Total number of crimes')\n",
    "ax.legend(title='Primary Type')\n",
    "ax.grid(False)  \n",
    "plt.xticks(range(min(pivot_table.index), max(pivot_table.index) + 1, 2))\n",
    "plt.show()"
   ]
  },
  {
   "cell_type": "code",
   "execution_count": 31,
   "id": "b69682d2",
   "metadata": {},
   "outputs": [],
   "source": [
    "street_crimes = df[df['Location Description'] == 'STREET'].shape[0]\n"
   ]
  },
  {
   "cell_type": "code",
   "execution_count": 32,
   "id": "2b522479",
   "metadata": {},
   "outputs": [],
   "source": [
    "total_crimes = df.shape[0]\n"
   ]
  },
  {
   "cell_type": "code",
   "execution_count": 33,
   "id": "8e0a7b4b",
   "metadata": {},
   "outputs": [
    {
     "data": {
      "text/plain": [
       "0.25811625083052675"
      ]
     },
     "execution_count": 33,
     "metadata": {},
     "output_type": "execute_result"
    }
   ],
   "source": [
    "fraction_street = street_crimes / total_crimes\n",
    "fraction_street"
   ]
  },
  {
   "cell_type": "code",
   "execution_count": 34,
   "id": "ccfe7962",
   "metadata": {},
   "outputs": [],
   "source": [
    "grouped = df.groupby(['Year', 'Location Description']).size().unstack().fillna(0)\n"
   ]
  },
  {
   "cell_type": "code",
   "execution_count": 35,
   "id": "11e0fb84",
   "metadata": {},
   "outputs": [],
   "source": [
    "grouped['Fraction Street'] = grouped['STREET'] / grouped.sum(axis=1)\n"
   ]
  },
  {
   "cell_type": "code",
   "execution_count": 36,
   "id": "11d4597e",
   "metadata": {},
   "outputs": [
    {
     "data": {
      "image/png": "[encoded data removed]",
      "text/plain": [
       "<Figure size 720x432 with 1 Axes>"
      ]
     },
     "metadata": {
      "needs_background": "light"
     },
     "output_type": "display_data"
    }
   ],
   "source": [
    "ax = grouped['Fraction Street'].plot(kind='line', marker='o', figsize=(10, 6))\n",
    "ax.set_title('Fraction of Crimes Happening on the STREET Over the Years')\n",
    "ax.set_xlabel('Year')\n",
    "ax.set_ylabel('Fraction')\n",
    "ax.grid(False)  # Disable grid lines\n",
    "\n",
    "# Set x-axis ticks to show years with a step of 2\n",
    "plt.xticks(range(min(grouped.index), max(grouped.index) + 1, 2))\n",
    "\n",
    "plt.show()"
   ]
  },
  {
   "cell_type": "code",
   "execution_count": 37,
   "id": "7427f9f6",
   "metadata": {},
   "outputs": [],
   "source": [
    "residence_crimes = df[df['Location Description'] == 'RESIDENCE'].shape[0]\n"
   ]
  },
  {
   "cell_type": "code",
   "execution_count": 38,
   "id": "aa37d866",
   "metadata": {},
   "outputs": [
    {
     "data": {
      "text/plain": [
       "0.164063045709844"
      ]
     },
     "execution_count": 38,
     "metadata": {},
     "output_type": "execute_result"
    }
   ],
   "source": [
    "fraction_residence = residence_crimes / total_crimes\n",
    "fraction_residence"
   ]
  },
  {
   "cell_type": "code",
   "execution_count": 39,
   "id": "fe84bcb8",
   "metadata": {},
   "outputs": [],
   "source": [
    "grouped['Fraction Residence'] = grouped['RESIDENCE'] / grouped.sum(axis=1)\n"
   ]
  },
  {
   "cell_type": "code",
   "execution_count": 40,
   "id": "ac6ac543",
   "metadata": {},
   "outputs": [
    {
     "data": {
      "image/png": "[encoded data removed]",
      "text/plain": [
       "<Figure size 720x432 with 1 Axes>"
      ]
     },
     "metadata": {
      "needs_background": "light"
     },
     "output_type": "display_data"
    }
   ],
   "source": [
    "ax = grouped['Fraction Residence'].plot(kind='line', marker='o', figsize=(10, 6))\n",
    "ax.set_title('Fraction of Crimes Happening in the Residence Over the Years')\n",
    "ax.set_xlabel('Year')\n",
    "ax.set_ylabel('Fraction')\n",
    "ax.grid(False) \n",
    "plt.xticks(range(min(grouped.index), max(grouped.index) + 1, 2))\n",
    "plt.show()"
   ]
  },
  {
   "cell_type": "code",
   "execution_count": 43,
   "id": "7e1221e4",
   "metadata": {},
   "outputs": [],
   "source": [
    "import seaborn as sns\n"
   ]
  },
  {
   "cell_type": "code",
   "execution_count": 44,
   "id": "a6a82de7",
   "metadata": {},
   "outputs": [
    {
     "data": {
      "text/plain": [
       "<AxesSubplot:xlabel='count', ylabel='Location Description'>"
      ]
     },
     "execution_count": 44,
     "metadata": {},
     "output_type": "execute_result"
    },
    {
     "data": {
      "image/png": "[encoded data removed]",
      "text/plain": [
       "<Figure size 1080x720 with 1 Axes>"
      ]
     },
     "metadata": {
      "needs_background": "light"
     },
     "output_type": "display_data"
    }
   ],
   "source": [
    "plt.figure(figsize = (15, 10))\n",
    "sns.countplot(y= 'Location Description', data = df, order = df['Location Description'].value_counts().iloc[:10].index)"
   ]
  },
  {
   "cell_type": "code",
   "execution_count": 48,
   "id": "b6a2245e",
   "metadata": {},
   "outputs": [
    {
     "data": {
      "text/html": [
       "<div>\n",
       "<style scoped>\n",
       "    .dataframe tbody tr th:only-of-type {\n",
       "        vertical-align: middle;\n",
       "    }\n",
       "\n",
       "    .dataframe tbody tr th {\n",
       "        vertical-align: top;\n",
       "    }\n",
       "\n",
       "    .dataframe thead th {\n",
       "        text-align: right;\n",
       "    }\n",
       "</style>\n",
       "<table border=\"1\" class=\"dataframe\">\n",
       "  <thead>\n",
       "    <tr style=\"text-align: right;\">\n",
       "      <th></th>\n",
       "      <th>ID</th>\n",
       "      <th>Case Number</th>\n",
       "      <th>Date</th>\n",
       "      <th>Block</th>\n",
       "      <th>IUCR</th>\n",
       "      <th>Primary Type</th>\n",
       "      <th>Description</th>\n",
       "      <th>Location Description</th>\n",
       "      <th>Arrest</th>\n",
       "      <th>Domestic</th>\n",
       "      <th>...</th>\n",
       "      <th>Community Area</th>\n",
       "      <th>FBI Code</th>\n",
       "      <th>X Coordinate</th>\n",
       "      <th>Y Coordinate</th>\n",
       "      <th>Year</th>\n",
       "      <th>Updated On</th>\n",
       "      <th>Latitude</th>\n",
       "      <th>Longitude</th>\n",
       "      <th>Location</th>\n",
       "      <th>Month</th>\n",
       "    </tr>\n",
       "  </thead>\n",
       "  <tbody>\n",
       "    <tr>\n",
       "      <th>0</th>\n",
       "      <td>10224881</td>\n",
       "      <td>HY411873</td>\n",
       "      <td>2015-09-03 18:00:00</td>\n",
       "      <td>044XX S UNIVERSITY AVE</td>\n",
       "      <td>1310</td>\n",
       "      <td>CRIMINAL DAMAGE</td>\n",
       "      <td>TO PROPERTY</td>\n",
       "      <td>RESIDENCE</td>\n",
       "      <td>False</td>\n",
       "      <td>False</td>\n",
       "      <td>...</td>\n",
       "      <td>39.0</td>\n",
       "      <td>14</td>\n",
       "      <td>1184667.0</td>\n",
       "      <td>1875669.0</td>\n",
       "      <td>2015</td>\n",
       "      <td>02/10/2018 03:50:01 PM</td>\n",
       "      <td>41.813999</td>\n",
       "      <td>-87.598138</td>\n",
       "      <td>(41.81399924, -87.598137918)</td>\n",
       "      <td>9</td>\n",
       "    </tr>\n",
       "    <tr>\n",
       "      <th>1</th>\n",
       "      <td>10225155</td>\n",
       "      <td>HY412177</td>\n",
       "      <td>2015-09-05 22:42:00</td>\n",
       "      <td>007XX W IRVING PARK RD</td>\n",
       "      <td>0470</td>\n",
       "      <td>PUBLIC PEACE VIOLATION</td>\n",
       "      <td>RECKLESS CONDUCT</td>\n",
       "      <td>STREET</td>\n",
       "      <td>True</td>\n",
       "      <td>False</td>\n",
       "      <td>...</td>\n",
       "      <td>3.0</td>\n",
       "      <td>24</td>\n",
       "      <td>1170563.0</td>\n",
       "      <td>1926785.0</td>\n",
       "      <td>2015</td>\n",
       "      <td>02/10/2018 03:50:01 PM</td>\n",
       "      <td>41.954584</td>\n",
       "      <td>-87.648376</td>\n",
       "      <td>(41.954584472, -87.648375776)</td>\n",
       "      <td>9</td>\n",
       "    </tr>\n",
       "    <tr>\n",
       "      <th>2</th>\n",
       "      <td>10225206</td>\n",
       "      <td>HY412253</td>\n",
       "      <td>2015-09-06 01:10:00</td>\n",
       "      <td>047XX S STATE ST</td>\n",
       "      <td>041A</td>\n",
       "      <td>BATTERY</td>\n",
       "      <td>AGGRAVATED: HANDGUN</td>\n",
       "      <td>VACANT LOT/LAND</td>\n",
       "      <td>False</td>\n",
       "      <td>False</td>\n",
       "      <td>...</td>\n",
       "      <td>38.0</td>\n",
       "      <td>04B</td>\n",
       "      <td>1177070.0</td>\n",
       "      <td>1873609.0</td>\n",
       "      <td>2015</td>\n",
       "      <td>02/10/2018 03:50:01 PM</td>\n",
       "      <td>41.808521</td>\n",
       "      <td>-87.626066</td>\n",
       "      <td>(41.80852139, -87.62606631)</td>\n",
       "      <td>9</td>\n",
       "    </tr>\n",
       "    <tr>\n",
       "      <th>3</th>\n",
       "      <td>10225234</td>\n",
       "      <td>HY412306</td>\n",
       "      <td>2015-09-06 02:00:00</td>\n",
       "      <td>002XX N ST LOUIS AVE</td>\n",
       "      <td>0420</td>\n",
       "      <td>BATTERY</td>\n",
       "      <td>AGGRAVATED:KNIFE/CUTTING INSTR</td>\n",
       "      <td>SIDEWALK</td>\n",
       "      <td>False</td>\n",
       "      <td>False</td>\n",
       "      <td>...</td>\n",
       "      <td>27.0</td>\n",
       "      <td>04B</td>\n",
       "      <td>1153006.0</td>\n",
       "      <td>1901570.0</td>\n",
       "      <td>2015</td>\n",
       "      <td>02/10/2018 03:50:01 PM</td>\n",
       "      <td>41.885759</td>\n",
       "      <td>-87.713588</td>\n",
       "      <td>(41.885759278, -87.713588042)</td>\n",
       "      <td>9</td>\n",
       "    </tr>\n",
       "    <tr>\n",
       "      <th>4</th>\n",
       "      <td>10225308</td>\n",
       "      <td>HY412341</td>\n",
       "      <td>2015-09-06 02:35:00</td>\n",
       "      <td>013XX W ADDISON ST</td>\n",
       "      <td>2230</td>\n",
       "      <td>LIQUOR LAW VIOLATION</td>\n",
       "      <td>ILLEGAL CONSUMPTION BY MINOR</td>\n",
       "      <td>SIDEWALK</td>\n",
       "      <td>True</td>\n",
       "      <td>False</td>\n",
       "      <td>...</td>\n",
       "      <td>6.0</td>\n",
       "      <td>22</td>\n",
       "      <td>1166847.0</td>\n",
       "      <td>1924028.0</td>\n",
       "      <td>2015</td>\n",
       "      <td>09/17/2015 11:37:18 AM</td>\n",
       "      <td>41.947100</td>\n",
       "      <td>-87.662116</td>\n",
       "      <td>(41.947099832, -87.662115668)</td>\n",
       "      <td>9</td>\n",
       "    </tr>\n",
       "    <tr>\n",
       "      <th>...</th>\n",
       "      <td>...</td>\n",
       "      <td>...</td>\n",
       "      <td>...</td>\n",
       "      <td>...</td>\n",
       "      <td>...</td>\n",
       "      <td>...</td>\n",
       "      <td>...</td>\n",
       "      <td>...</td>\n",
       "      <td>...</td>\n",
       "      <td>...</td>\n",
       "      <td>...</td>\n",
       "      <td>...</td>\n",
       "      <td>...</td>\n",
       "      <td>...</td>\n",
       "      <td>...</td>\n",
       "      <td>...</td>\n",
       "      <td>...</td>\n",
       "      <td>...</td>\n",
       "      <td>...</td>\n",
       "      <td>...</td>\n",
       "      <td>...</td>\n",
       "    </tr>\n",
       "    <tr>\n",
       "      <th>7158103</th>\n",
       "      <td>13128007</td>\n",
       "      <td>JG325985</td>\n",
       "      <td>2023-06-21 20:00:00</td>\n",
       "      <td>031XX N CALIFORNIA AVE</td>\n",
       "      <td>1320</td>\n",
       "      <td>CRIMINAL DAMAGE</td>\n",
       "      <td>TO VEHICLE</td>\n",
       "      <td>STREET</td>\n",
       "      <td>False</td>\n",
       "      <td>False</td>\n",
       "      <td>...</td>\n",
       "      <td>21.0</td>\n",
       "      <td>14</td>\n",
       "      <td>1157169.0</td>\n",
       "      <td>1920611.0</td>\n",
       "      <td>2023</td>\n",
       "      <td>08/05/2023 04:45:54 PM</td>\n",
       "      <td>41.937926</td>\n",
       "      <td>-87.697782</td>\n",
       "      <td>(41.937925817, -87.697782474)</td>\n",
       "      <td>6</td>\n",
       "    </tr>\n",
       "    <tr>\n",
       "      <th>7158104</th>\n",
       "      <td>13128066</td>\n",
       "      <td>JG325838</td>\n",
       "      <td>2023-06-06 15:42:00</td>\n",
       "      <td>018XX N LOCKWOOD AVE</td>\n",
       "      <td>1752</td>\n",
       "      <td>OFFENSE INVOLVING CHILDREN</td>\n",
       "      <td>AGGRAVATED CRIMINAL SEXUAL ABUSE BY FAMILY MEMBER</td>\n",
       "      <td>APARTMENT</td>\n",
       "      <td>False</td>\n",
       "      <td>False</td>\n",
       "      <td>...</td>\n",
       "      <td>25.0</td>\n",
       "      <td>17</td>\n",
       "      <td>1140792.0</td>\n",
       "      <td>1911954.0</td>\n",
       "      <td>2023</td>\n",
       "      <td>08/05/2023 04:45:54 PM</td>\n",
       "      <td>41.914487</td>\n",
       "      <td>-87.758185</td>\n",
       "      <td>(41.914487492, -87.758185241)</td>\n",
       "      <td>6</td>\n",
       "    </tr>\n",
       "    <tr>\n",
       "      <th>7158105</th>\n",
       "      <td>13129823</td>\n",
       "      <td>JG328250</td>\n",
       "      <td>2023-06-28 18:00:00</td>\n",
       "      <td>059XX S KEELER AVE</td>\n",
       "      <td>0810</td>\n",
       "      <td>THEFT</td>\n",
       "      <td>OVER $500</td>\n",
       "      <td>STREET</td>\n",
       "      <td>False</td>\n",
       "      <td>False</td>\n",
       "      <td>...</td>\n",
       "      <td>65.0</td>\n",
       "      <td>06</td>\n",
       "      <td>1149387.0</td>\n",
       "      <td>1864869.0</td>\n",
       "      <td>2023</td>\n",
       "      <td>08/05/2023 04:45:54 PM</td>\n",
       "      <td>41.785118</td>\n",
       "      <td>-87.727828</td>\n",
       "      <td>(41.785117789, -87.727827896)</td>\n",
       "      <td>6</td>\n",
       "    </tr>\n",
       "    <tr>\n",
       "      <th>7158106</th>\n",
       "      <td>13128324</td>\n",
       "      <td>JG326502</td>\n",
       "      <td>2023-05-13 12:00:00</td>\n",
       "      <td>020XX W CERMAK RD</td>\n",
       "      <td>1120</td>\n",
       "      <td>DECEPTIVE PRACTICE</td>\n",
       "      <td>FORGERY</td>\n",
       "      <td>CURRENCY EXCHANGE</td>\n",
       "      <td>False</td>\n",
       "      <td>False</td>\n",
       "      <td>...</td>\n",
       "      <td>31.0</td>\n",
       "      <td>10</td>\n",
       "      <td>1163211.0</td>\n",
       "      <td>1889404.0</td>\n",
       "      <td>2023</td>\n",
       "      <td>08/05/2023 04:45:54 PM</td>\n",
       "      <td>41.852166</td>\n",
       "      <td>-87.676455</td>\n",
       "      <td>(41.85216632, -87.676455032)</td>\n",
       "      <td>5</td>\n",
       "    </tr>\n",
       "    <tr>\n",
       "      <th>7158107</th>\n",
       "      <td>13129172</td>\n",
       "      <td>JG327619</td>\n",
       "      <td>2023-06-20 04:00:00</td>\n",
       "      <td>028XX N MAPLEWOOD AVE</td>\n",
       "      <td>0460</td>\n",
       "      <td>BATTERY</td>\n",
       "      <td>SIMPLE</td>\n",
       "      <td>RESIDENCE</td>\n",
       "      <td>False</td>\n",
       "      <td>True</td>\n",
       "      <td>...</td>\n",
       "      <td>21.0</td>\n",
       "      <td>08B</td>\n",
       "      <td>1158868.0</td>\n",
       "      <td>1918755.0</td>\n",
       "      <td>2023</td>\n",
       "      <td>08/05/2023 04:45:54 PM</td>\n",
       "      <td>41.932798</td>\n",
       "      <td>-87.691589</td>\n",
       "      <td>(41.932798095, -87.691589364)</td>\n",
       "      <td>6</td>\n",
       "    </tr>\n",
       "  </tbody>\n",
       "</table>\n",
       "<p>7158108 rows × 23 columns</p>\n",
       "</div>"
      ],
      "text/plain": [
       "               ID Case Number                Date                   Block  \\\n",
       "0        10224881    HY411873 2015-09-03 18:00:00  044XX S UNIVERSITY AVE   \n",
       "1        10225155    HY412177 2015-09-05 22:42:00  007XX W IRVING PARK RD   \n",
       "2        10225206    HY412253 2015-09-06 01:10:00        047XX S STATE ST   \n",
       "3        10225234    HY412306 2015-09-06 02:00:00    002XX N ST LOUIS AVE   \n",
       "4        10225308    HY412341 2015-09-06 02:35:00      013XX W ADDISON ST   \n",
       "...           ...         ...                 ...                     ...   \n",
       "7158103  13128007    JG325985 2023-06-21 20:00:00  031XX N CALIFORNIA AVE   \n",
       "7158104  13128066    JG325838 2023-06-06 15:42:00    018XX N LOCKWOOD AVE   \n",
       "7158105  13129823    JG328250 2023-06-28 18:00:00      059XX S KEELER AVE   \n",
       "7158106  13128324    JG326502 2023-05-13 12:00:00       020XX W CERMAK RD   \n",
       "7158107  13129172    JG327619 2023-06-20 04:00:00   028XX N MAPLEWOOD AVE   \n",
       "\n",
       "         IUCR                Primary Type  \\\n",
       "0        1310             CRIMINAL DAMAGE   \n",
       "1        0470      PUBLIC PEACE VIOLATION   \n",
       "2        041A                     BATTERY   \n",
       "3        0420                     BATTERY   \n",
       "4        2230        LIQUOR LAW VIOLATION   \n",
       "...       ...                         ...   \n",
       "7158103  1320             CRIMINAL DAMAGE   \n",
       "7158104  1752  OFFENSE INVOLVING CHILDREN   \n",
       "7158105  0810                       THEFT   \n",
       "7158106  1120          DECEPTIVE PRACTICE   \n",
       "7158107  0460                     BATTERY   \n",
       "\n",
       "                                               Description  \\\n",
       "0                                              TO PROPERTY   \n",
       "1                                         RECKLESS CONDUCT   \n",
       "2                                      AGGRAVATED: HANDGUN   \n",
       "3                           AGGRAVATED:KNIFE/CUTTING INSTR   \n",
       "4                             ILLEGAL CONSUMPTION BY MINOR   \n",
       "...                                                    ...   \n",
       "7158103                                         TO VEHICLE   \n",
       "7158104  AGGRAVATED CRIMINAL SEXUAL ABUSE BY FAMILY MEMBER   \n",
       "7158105                                          OVER $500   \n",
       "7158106                                            FORGERY   \n",
       "7158107                                             SIMPLE   \n",
       "\n",
       "        Location Description  Arrest  Domestic  ...  Community Area  FBI Code  \\\n",
       "0                  RESIDENCE   False     False  ...            39.0        14   \n",
       "1                     STREET    True     False  ...             3.0        24   \n",
       "2            VACANT LOT/LAND   False     False  ...            38.0       04B   \n",
       "3                   SIDEWALK   False     False  ...            27.0       04B   \n",
       "4                   SIDEWALK    True     False  ...             6.0        22   \n",
       "...                      ...     ...       ...  ...             ...       ...   \n",
       "7158103               STREET   False     False  ...            21.0        14   \n",
       "7158104            APARTMENT   False     False  ...            25.0        17   \n",
       "7158105               STREET   False     False  ...            65.0        06   \n",
       "7158106    CURRENCY EXCHANGE   False     False  ...            31.0        10   \n",
       "7158107            RESIDENCE   False      True  ...            21.0       08B   \n",
       "\n",
       "         X Coordinate  Y Coordinate  Year              Updated On   Latitude  \\\n",
       "0           1184667.0     1875669.0  2015  02/10/2018 03:50:01 PM  41.813999   \n",
       "1           1170563.0     1926785.0  2015  02/10/2018 03:50:01 PM  41.954584   \n",
       "2           1177070.0     1873609.0  2015  02/10/2018 03:50:01 PM  41.808521   \n",
       "3           1153006.0     1901570.0  2015  02/10/2018 03:50:01 PM  41.885759   \n",
       "4           1166847.0     1924028.0  2015  09/17/2015 11:37:18 AM  41.947100   \n",
       "...               ...           ...   ...                     ...        ...   \n",
       "7158103     1157169.0     1920611.0  2023  08/05/2023 04:45:54 PM  41.937926   \n",
       "7158104     1140792.0     1911954.0  2023  08/05/2023 04:45:54 PM  41.914487   \n",
       "7158105     1149387.0     1864869.0  2023  08/05/2023 04:45:54 PM  41.785118   \n",
       "7158106     1163211.0     1889404.0  2023  08/05/2023 04:45:54 PM  41.852166   \n",
       "7158107     1158868.0     1918755.0  2023  08/05/2023 04:45:54 PM  41.932798   \n",
       "\n",
       "         Longitude                       Location  Month  \n",
       "0       -87.598138   (41.81399924, -87.598137918)      9  \n",
       "1       -87.648376  (41.954584472, -87.648375776)      9  \n",
       "2       -87.626066    (41.80852139, -87.62606631)      9  \n",
       "3       -87.713588  (41.885759278, -87.713588042)      9  \n",
       "4       -87.662116  (41.947099832, -87.662115668)      9  \n",
       "...            ...                            ...    ...  \n",
       "7158103 -87.697782  (41.937925817, -87.697782474)      6  \n",
       "7158104 -87.758185  (41.914487492, -87.758185241)      6  \n",
       "7158105 -87.727828  (41.785117789, -87.727827896)      6  \n",
       "7158106 -87.676455   (41.85216632, -87.676455032)      5  \n",
       "7158107 -87.691589  (41.932798095, -87.691589364)      6  \n",
       "\n",
       "[7158108 rows x 23 columns]"
      ]
     },
     "execution_count": 48,
     "metadata": {},
     "output_type": "execute_result"
    }
   ],
   "source": [
    "df"
   ]
  },
  {
   "cell_type": "code",
   "execution_count": 59,
   "id": "a1350766",
   "metadata": {},
   "outputs": [
    {
     "data": {
      "image/png": "[encoded data removed]",
      "text/plain": [
       "<Figure size 720x432 with 1 Axes>"
      ]
     },
     "metadata": {
      "needs_background": "light"
     },
     "output_type": "display_data"
    }
   ],
   "source": [
    "month_counts = df['Month'].value_counts().sort_index()\n",
    "plt.figure(figsize=(10, 6))\n",
    "months = [calendar.month_name[i] for i in month_counts.index]\n",
    "plt.plot(months, month_counts, marker='o')\n",
    "plt.ylabel('Number of crimes')\n",
    "plt.title('Number of crimes by month of the year')\n",
    "plt.tight_layout()\n",
    "plt.xticks(rotation=45)\n",
    "plt.show()"
   ]
  }
 ],
 "metadata": {
  "kernelspec": {
   "display_name": "Python 3 (ipykernel)",
   "language": "python",
   "name": "python3"
  },
  "language_info": {
   "codemirror_mode": {
    "name": "ipython",
    "version": 3
   },
   "file_extension": ".py",
   "mimetype": "text/x-python",
   "name": "python",
   "nbconvert_exporter": "python",
   "pygments_lexer": "ipython3",
   "version": "3.9.7"
  }
 },
 "nbformat": 4,
 "nbformat_minor": 5
}
